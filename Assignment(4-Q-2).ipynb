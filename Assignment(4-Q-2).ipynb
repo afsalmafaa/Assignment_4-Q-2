{
 "cells": [
  {
   "cell_type": "code",
   "execution_count": 5,
   "id": "18cd491a",
   "metadata": {},
   "outputs": [
    {
     "name": "stdout",
     "output_type": "stream",
     "text": [
      "Sample list: [1, 2, 3, 4, 5, 6, 7]\n",
      "\n",
      "Triple of list numbers:\n",
      "[3, 6, 9, 12, 15, 18, 21]\n"
     ]
    }
   ],
   "source": [
    "def triple_numbers(n):\n",
    "    return n*3\n",
    "\n",
    "numbers = [1,2,3,4,5,6,7]\n",
    "tripled_numbers = list(map(triple_numbers,numbers))\n",
    "\n",
    "print(\"Sample list:\",numbers)\n",
    "print(\"\\nTriple of list numbers:\")\n",
    "print(tripled_numbers)"
   ]
  }
 ],
 "metadata": {
  "kernelspec": {
   "display_name": "Python 3 (ipykernel)",
   "language": "python",
   "name": "python3"
  },
  "language_info": {
   "codemirror_mode": {
    "name": "ipython",
    "version": 3
   },
   "file_extension": ".py",
   "mimetype": "text/x-python",
   "name": "python",
   "nbconvert_exporter": "python",
   "pygments_lexer": "ipython3",
   "version": "3.10.9"
  }
 },
 "nbformat": 4,
 "nbformat_minor": 5
}
